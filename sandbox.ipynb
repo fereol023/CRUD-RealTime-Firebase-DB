{
 "cells": [
  {
   "cell_type": "code",
   "execution_count": 1,
   "metadata": {},
   "outputs": [],
   "source": [
    "import firebase_admin\n",
    "from firebase_admin import credentials\n",
    "from firebase_admin import db"
   ]
  },
  {
   "cell_type": "code",
   "execution_count": 2,
   "metadata": {},
   "outputs": [
    {
     "name": "stdout",
     "output_type": "stream",
     "text": [
      "None\n"
     ]
    }
   ],
   "source": [
    "# Initialisez le SDK Firebase avec le fichier JSON de votre compte de service\n",
    "cred = credentials.Certificate('config.json')\n",
    "firebase_admin.initialize_app(cred, {\n",
    "    'databaseURL': 'https://mydatabase-93b44-default-rtdb.europe-west1.firebasedatabase.app/'\n",
    "})\n",
    "\n",
    "# Référencez votre base de données\n",
    "ref = db.reference('/')\n",
    "\n",
    "# Maintenant, vous pouvez interagir avec la base de données\n",
    "# Par exemple, pour lire des données\n",
    "data = ref.get()\n",
    "print(data)"
   ]
  },
  {
   "cell_type": "code",
   "execution_count": 2,
   "metadata": {},
   "outputs": [],
   "source": [
    "class FirebaseClient:\n",
    "    def __init__(self):\n",
    "        '''\n",
    "            Configure Firebase avec les informations d'authentification de votre projet\n",
    "        '''\n",
    "        self.config_path = 'config.json'\n",
    "        self.database_url = 'https://mydatabase-93b44-default-rtdb.europe-west1.firebasedatabase.app/'\n",
    "        try : \n",
    "            cred = credentials.Certificate(self.config_path)\n",
    "            firebase_admin.initialize_app(cred, {\n",
    "                'databaseURL': self.database_url\n",
    "            })\n",
    "        except Exception as e:\n",
    "            print(\"Erreur lors de l'initialisation de la connexion.\")\n",
    "            raise e\n",
    "\n",
    "    def create_user(self, uid: str, user_data: dict = None) -> None:\n",
    "        '''\n",
    "            Ajoutez un nouvel utilisateur à la base de données Firebase\n",
    "            @params uid : Identifiant de l'utilisateur\n",
    "            @params user_data : Données de l'utilisateur (un dictionnaire)\n",
    "\n",
    "            @return: None\n",
    "        '''\n",
    "        try : \n",
    "            ref = db.reference('users')\n",
    "            ref.child(uid).set(user_data)\n",
    "            print(f'{uid} created !')\n",
    "        except Exception as e:\n",
    "            print(f\"Erreur lors de l'enregistrement de l'utilisateur {uid} : {user_data}\")\n",
    "            raise e\n",
    "\n",
    "    def read_user(self, uid: str) -> dict:\n",
    "        '''\n",
    "          Lisez les données de l'utilisateur à partir de la base de données Firebase\n",
    "          @params uid : Identifiant de l'utilisateur\n",
    "\n",
    "          @return: Données de l'utilisateur (un dictionnaire)\n",
    "        '''\n",
    "        ref = db.reference('users')\n",
    "        user_data = ref.child(uid).get()\n",
    "        return user_data\n",
    "\n",
    "    def update_user(self, uid: str, user_data: dict = None) -> None:\n",
    "        ''' \n",
    "            Mettez à jour les données de l'utilisateur dans la base de données Firebase\n",
    "            @params uid : Identifiant de l'utilisateur\n",
    "            @params user_data : Données de l'utilisateur à mettre à jour (un dictionnaire)     \n",
    "\n",
    "            @return: None\n",
    "        '''\n",
    "        ref = db.reference('users')\n",
    "        ref.child(uid).update(user_data)\n",
    "        print(f'{uid} updated !')\n",
    "\n",
    "    def delete_user(self, uid: str) -> None:\n",
    "        '''\n",
    "            Supprimez l'utilisateur de la base de données Firebase\n",
    "            @params uid : Identifiant de l'utilisateur\n",
    "\n",
    "            @return: None\n",
    "        '''\n",
    "        ref = db.reference('users')\n",
    "        ref.child(uid).delete()\n",
    "        print(f'{uid} deleted !')"
   ]
  },
  {
   "cell_type": "code",
   "execution_count": 3,
   "metadata": {},
   "outputs": [
    {
     "name": "stdout",
     "output_type": "stream",
     "text": [
      "000 created !\n",
      "001 created !\n",
      "001 deleted !\n"
     ]
    }
   ],
   "source": [
    "f = FirebaseClient()\n",
    "f.create_user(uid='000', user_data={'name':'tester', 'date':'1999-01-01'})\n",
    "f.create_user(uid='001', user_data={'name':'tester_bis', 'date':'1999-01-01'})\n",
    "f.delete_user(uid='001')"
   ]
  },
  {
   "cell_type": "code",
   "execution_count": 10,
   "metadata": {},
   "outputs": [],
   "source": [
    "import pandas as pd\n",
    "users_data = pd.read_csv('UsersAccount.csv')\n",
    "single_user = users_data.head(1).to_dict(orient='records')[0]\n",
    "single_user_id = single_user['uid']\n",
    "single_user_data = {k:v for k,v in single_user.items() if k != 'uid'}"
   ]
  },
  {
   "cell_type": "code",
   "execution_count": 11,
   "metadata": {},
   "outputs": [
    {
     "name": "stdout",
     "output_type": "stream",
     "text": [
      "{'name': 'Alice', 'birthday': '1990-05-15', 'bio': 'Nature lover', 'joindate': '2022-01-10'}\n",
      "101\n"
     ]
    }
   ],
   "source": [
    "print(single_user_data)\n",
    "print(single_user_id)"
   ]
  },
  {
   "cell_type": "code",
   "execution_count": null,
   "metadata": {},
   "outputs": [],
   "source": []
  }
 ],
 "metadata": {
  "kernelspec": {
   "display_name": "venv",
   "language": "python",
   "name": "python3"
  },
  "language_info": {
   "codemirror_mode": {
    "name": "ipython",
    "version": 3
   },
   "file_extension": ".py",
   "mimetype": "text/x-python",
   "name": "python",
   "nbconvert_exporter": "python",
   "pygments_lexer": "ipython3",
   "version": "3.9.13"
  }
 },
 "nbformat": 4,
 "nbformat_minor": 2
}
